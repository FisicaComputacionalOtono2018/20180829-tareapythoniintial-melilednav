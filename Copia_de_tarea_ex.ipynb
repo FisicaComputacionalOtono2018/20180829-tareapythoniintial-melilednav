{
  "nbformat": 4,
  "nbformat_minor": 0,
  "metadata": {
    "colab": {
      "name": "Copia de tarea_ex.ipynb",
      "version": "0.3.2",
      "provenance": [],
      "collapsed_sections": []
    },
    "kernelspec": {
      "name": "python3",
      "display_name": "Python 3"
    }
  },
  "cells": [
    {
      "metadata": {
        "id": "odzDCnCdGOdw",
        "colab_type": "code",
        "colab": {
          "base_uri": "https://localhost:8080/",
          "height": 104
        },
        "outputId": "282fe2e7-57aa-4fd7-a89b-bb3b21334fcb"
      },
      "cell_type": "code",
      "source": [
        "#Melissa Ledesma\n",
        "#Tarea para examen, 1.\n",
        "\n",
        "import numpy as np\n",
        "import math\n",
        "\n",
        "def f(x,y):\n",
        "  ang_a=math.atan(float(y)/float(x))\n",
        "  ang=(ang_a)*(180/math.pi)\n",
        "  return(ang)\n",
        "    \n",
        "x1=input(\"Ingrese la Coordenada x de Vector 1 \")\n",
        "y1=input(\"Ingrese la Coordenada y de Vector 1 \")\n",
        "x2=input(\"Ingrese la Coordenada x de Vector 2 \")\n",
        "y2=input(\"Ingrese la Coordenada y de Vector 2 \")\n",
        "\n",
        "#print(f(x1,y1))\n",
        "#print(f(x2,y2))\n",
        "if f(x1,y1)>f(x2,y2):\n",
        "  print((f(x1,y1)-(f(x2,y2))))\n",
        "else:\n",
        "  print((f(x2,y2)-(f(x1,y1))))"
      ],
      "execution_count": 11,
      "outputs": [
        {
          "output_type": "stream",
          "text": [
            "Ingrese la Coordenada x de Vector 1 5\n",
            "Ingrese la Coordenada y de Vector 1 6\n",
            "Ingrese la Coordenada x de Vector 2 1\n",
            "Ingrese la Coordenada y de Vector 2 1\n",
            "5.19442890773481\n"
          ],
          "name": "stdout"
        }
      ]
    },
    {
      "metadata": {
        "id": "qHSvbXcIkBsR",
        "colab_type": "code",
        "colab": {
          "base_uri": "https://localhost:8080/",
          "height": 69
        },
        "outputId": "f97e7c41-b901-4e01-9503-1979b473083b"
      },
      "cell_type": "code",
      "source": [
        "x=input(\"x \")\n",
        "y=input(\"y \")\n",
        "a=np.array([float(x),float(y)])\n",
        "ang_a=math.atan(float(y)/float(x))\n",
        "ang=(ang_a)*(180/math.pi)\n",
        "print(ang)"
      ],
      "execution_count": 0,
      "outputs": [
        {
          "output_type": "stream",
          "text": [
            "x11\n",
            "y11\n",
            "45.0\n"
          ],
          "name": "stdout"
        }
      ]
    },
    {
      "metadata": {
        "id": "eAK3Vxb0qm2U",
        "colab_type": "code",
        "colab": {
          "base_uri": "https://localhost:8080/",
          "height": 86
        },
        "outputId": "7818c18a-9edd-435d-fc4f-d73e0d2acbf4"
      },
      "cell_type": "code",
      "source": [
        "#Melissa Ledesma\n",
        "#Tarea para examen, 2.\n",
        "\n",
        "import math\n",
        "\n",
        "x=input(\"coordenada en x \")\n",
        "y=input(\"coordenada en y \")\n",
        "z=input(\"coordenada en z \")\n",
        "\n",
        "def f(x,y,z):\n",
        "  ang_x=math.atan(float(y)/float(x))\n",
        "  angx=(ang_x)*(180/math.pi)\n",
        "  ang_y=math.atan(float(x)/float(y))\n",
        "  angy=(ang_y)*(180/math.pi)\n",
        "  pre_rho=(float(x)**2)+(float(y)**2)\n",
        "  rho=math.sqrt(pre_rho)\n",
        "  ang_z=math.atan(rho/float(z))\n",
        "  angz=(ang_z)*(180/math.pi)\n",
        "  return(angx,angy,angz)\n",
        " \n",
        "print(f(x,y,z))"
      ],
      "execution_count": 5,
      "outputs": [
        {
          "output_type": "stream",
          "text": [
            "coordenada en x 1\n",
            "coordenada en y 1\n",
            "coordenada en z 1\n",
            "(45.0, 45.0, 54.735610317245346)\n"
          ],
          "name": "stdout"
        }
      ]
    },
    {
      "metadata": {
        "id": "mD5V_cMT0wX_",
        "colab_type": "code",
        "colab": {
          "base_uri": "https://localhost:8080/",
          "height": 139
        },
        "outputId": "28a5a6e9-3fd5-4e88-9411-f1b5d2a61056"
      },
      "cell_type": "code",
      "source": [
        "#Melissa Ledesma\n",
        "#Tarea para examen, 3.\n",
        "\n",
        "import numpy as np\n",
        "def i(y1,z1,y2,z2):\n",
        "  a=float(y1)*float(z2)\n",
        "  b=float(y2)*float(z1)\n",
        "  return((a-b), 'i')\n",
        "def j(x1, z1, x2, z2):\n",
        "  a=float(y1)*float(z2)\n",
        "  b=float(y2)*float(z1)\n",
        "  return((a-b), 'j')\n",
        "def k(x1, y1, x2, y2):\n",
        "  a=float(x1)*float(y2)\n",
        "  b=float(x2)*float(y1)\n",
        "  return((a-b) 'k')\n",
        "  \n",
        "x1=input(\"Ingrese la Coordenada x de Vector 1 \")\n",
        "y1=input(\"Ingrese la Coordenada y de Vector 1 \")\n",
        "z1=input(\"Ingrese la Coordenada z de Vector 1 \")\n",
        "x2=input(\"Ingrese la Coordenada x de Vector 2 \")\n",
        "y2=input(\"Ingrese la Coordenada y de Vector 2 \")\n",
        "z2=input(\"Ingrese la Coordenada z de Vector 2 \")\n",
        "\n",
        "print(i(y1,z1,y2,z2), \"-\", j(x1, z1, x2, z2), \"+\", k(x1, y1, x2, y2))"
      ],
      "execution_count": 16,
      "outputs": [
        {
          "output_type": "stream",
          "text": [
            "Ingrese la Coordenada x de Vector 1 1\n",
            "Ingrese la Coordenada y de Vector 1 1\n",
            "Ingrese la Coordenada z de Vector 1 1\n",
            "Ingrese la Coordenada x de Vector 2 2\n",
            "Ingrese la Coordenada y de Vector 2 3\n",
            "Ingrese la Coordenada z de Vector 2 4\n",
            "(1.0, 'i') - (1.0, 'j') + (1.0, 'k')\n"
          ],
          "name": "stdout"
        }
      ]
    },
    {
      "metadata": {
        "id": "ZS04UKc2Bzo1",
        "colab_type": "code",
        "colab": {
          "base_uri": "https://localhost:8080/",
          "height": 34
        },
        "outputId": "15f58d26-5a0d-4074-c249-b99b9bee5020"
      },
      "cell_type": "code",
      "source": [
        "#Melissa Ledesma\n",
        "#Tarea para examen, 4.\n",
        "\n",
        "x=1\n",
        "while x<=5:\n",
        "  if x%3!=0:\n",
        "    print(x)\n",
        "    break\n",
        "  else:\n",
        "    x=x+2"
      ],
      "execution_count": 4,
      "outputs": [
        {
          "output_type": "stream",
          "text": [
            "1\n"
          ],
          "name": "stdout"
        }
      ]
    },
    {
      "metadata": {
        "id": "l4s-n1qmGIyE",
        "colab_type": "code",
        "colab": {
          "base_uri": "https://localhost:8080/",
          "height": 52
        },
        "outputId": "4a030706-381b-4c97-8ca0-b16d6ca1e7fb"
      },
      "cell_type": "code",
      "source": [
        "#Melissa Ledesma\n",
        "#Tarea para examen, 5.\n",
        "\n",
        "x=1\n",
        "lista=list(range(3,102,3))\n",
        "suma=sum(lista)\n",
        "print(\"elementos \", lista)\n",
        "print(\"total de la suma \", suma)"
      ],
      "execution_count": 0,
      "outputs": [
        {
          "output_type": "stream",
          "text": [
            "elementos  [3, 6, 9, 12, 15, 18, 21, 24, 27, 30, 33, 36, 39, 42, 45, 48, 51, 54, 57, 60, 63, 66, 69, 72, 75, 78, 81, 84, 87, 90, 93, 96, 99]\n",
            "total de la suma  1683\n"
          ],
          "name": "stdout"
        }
      ]
    },
    {
      "metadata": {
        "id": "enhUDH3rHQKW",
        "colab_type": "code",
        "colab": {
          "base_uri": "https://localhost:8080/",
          "height": 104
        },
        "outputId": "917b3300-5155-4914-dd20-3fba737d6316"
      },
      "cell_type": "code",
      "source": [
        "#Melissa Ledesma\n",
        "#Tarea para examen, 6.\n",
        "\n",
        "fst=input(\"Primer valor= \")\n",
        "scnd=input(\"Segundo valor= \")\n",
        "thrd=input(\"Tercer valor= \")\n",
        "frth=input(\"Cuarto valor= \")\n",
        "\n",
        "numeros=[fst, scnd, thrd, frth]\n",
        "a=max(numeros)\n",
        "print(\"El número mayor es \", a)"
      ],
      "execution_count": 0,
      "outputs": [
        {
          "output_type": "stream",
          "text": [
            "Primer valor= 1\n",
            "Segundo valor= 2\n",
            "Tercer valor= 3\n",
            "Cuarto valor= 88\n",
            "El número mayor es  88\n"
          ],
          "name": "stdout"
        }
      ]
    },
    {
      "metadata": {
        "id": "_jVBEhjw_di0",
        "colab_type": "code",
        "colab": {
          "base_uri": "https://localhost:8080/",
          "height": 69
        },
        "outputId": "d28330b1-5dbb-49eb-a48b-e4e207f1282a"
      },
      "cell_type": "code",
      "source": [
        "#Melissa Ledesma\n",
        "#Tarea para examen, 8.\n",
        "\n",
        "b=input(\"Base= \")\n",
        "h=input(\"Altura= \")\n",
        "\n",
        "def A(b,h):\n",
        "  if float(b)<=0:\n",
        "    return(\"Valores incompatibles\")\n",
        "  elif float(h)<=0:\n",
        "    return(\"Valores incompatible\")\n",
        "  else:\n",
        "    return((1/2)*float(h)*float(b))\n",
        "\n",
        "print(A(b,h))"
      ],
      "execution_count": 24,
      "outputs": [
        {
          "output_type": "stream",
          "text": [
            "Base= 9\n",
            "Altura= 6\n",
            "27.0\n"
          ],
          "name": "stdout"
        }
      ]
    },
    {
      "metadata": {
        "id": "ZnXjtbRa0tyo",
        "colab_type": "code",
        "colab": {
          "base_uri": "https://localhost:8080/",
          "height": 382
        },
        "outputId": "0abdf994-b1af-484c-c946-0e9ab3b7aa3f"
      },
      "cell_type": "code",
      "source": [
        "#Melissa Ledesma \n",
        "#Tarea para examen, 10a.\n",
        "\n",
        "import numpy as np\n",
        "import matplotlib.pyplot as plt\n",
        "\n",
        "def f1(a):\n",
        "  return((2*(a**2)+(5*a)-2))\n",
        "\n",
        "def f2(b):\n",
        "  return((4*b)+1)\n",
        "\n",
        "\n",
        "x=np.arange(-10, 15, 0.01)\n",
        "plt.figure(1)\n",
        "plt.plot(11)\n",
        "plt.plot(x, f1(x), 'k', x, f2(x), 'r--')"
      ],
      "execution_count": 4,
      "outputs": [
        {
          "output_type": "execute_result",
          "data": {
            "text/plain": [
              "[<matplotlib.lines.Line2D at 0x7f96103b7080>,\n",
              " <matplotlib.lines.Line2D at 0x7f9610384cc0>]"
            ]
          },
          "metadata": {
            "tags": []
          },
          "execution_count": 4
        },
        {
          "output_type": "display_data",
          "data": {
            "image/png": "[encoded data removed]",
            "text/plain": [
              "<matplotlib.figure.Figure at 0x7f96103aa9e8>"
            ]
          },
          "metadata": {
            "tags": []
          }
        }
      ]
    },
    {
      "metadata": {
        "id": "6Ry0CU85MgGL",
        "colab_type": "code",
        "colab": {
          "base_uri": "https://localhost:8080/",
          "height": 86
        },
        "outputId": "06ed74a5-0523-46dc-bd74-d40803d12d62"
      },
      "cell_type": "code",
      "source": [
        "#Melissa Ledesma \n",
        "#Tarea para examen, 10a.\n",
        "\n",
        "t1=tuple(input(\"ingrese una ecuación e la forma ax+by=c \"))\n",
        "t2=tuple(input(\"ingrese una ecuación e la forma dx+ef=f \"))\n",
        "#print(a)\n",
        "a=float(t1[0])\n",
        "b=float(t1[3])\n",
        "c=float(t1[-1])\n",
        "\n",
        "d=float(t2[0])\n",
        "e=float(t2[3])\n",
        "f=float(t2[-1])\n",
        "\n",
        "x=((c*e)-(b*f))/((a*e)-(b*d))\n",
        "y=((a*f)-(c*d))/((a*e)-(b*d))\n",
        "\n",
        "print(a,b,c,d,e,f)\n",
        "print(\"x =\", x)\n",
        "print(\"y = \", y)"
      ],
      "execution_count": 7,
      "outputs": [
        {
          "output_type": "stream",
          "text": [
            "ingrese una ecuación e la forma ax+by=c 1x+2y=3\n",
            "ingrese una ecuación e la forma dx+ef=f 3x+5y=8\n",
            "x = 1.0\n",
            "y=  1.0\n"
          ],
          "name": "stdout"
        }
      ]
    },
    {
      "metadata": {
        "id": "NetBvCUDW_Q7",
        "colab_type": "code",
        "colab": {
          "base_uri": "https://localhost:8080/",
          "height": 341
        },
        "outputId": "668e007d-5b94-446d-b462-a060352b9f08"
      },
      "cell_type": "code",
      "source": [
        "#Melissa Ledesma \n",
        "#Tarea para examen, 7.\n",
        "\n",
        "t=input()\n",
        "\n",
        "def g(t):\n",
        "  \n",
        "def f(t):\n",
        "  a=t.replace(\"(\", \" \")\n",
        "  c=a.replace(\")\", \" \")\n",
        "  b=c.replace(\",\", \".\")\n",
        "  return()\n",
        "\n",
        "print(f(t))  "
      ],
      "execution_count": 13,
      "outputs": [
        {
          "output_type": "stream",
          "text": [
            "(8,12)(3,9)\n"
          ],
          "name": "stdout"
        },
        {
          "output_type": "error",
          "ename": "ValueError",
          "evalue": "ignored",
          "traceback": [
            "\u001b[0;31m---------------------------------------------------------------------------\u001b[0m",
            "\u001b[0;31mValueError\u001b[0m                                Traceback (most recent call last)",
            "\u001b[0;32m<ipython-input-13-99437f7673dc>\u001b[0m in \u001b[0;36m<module>\u001b[0;34m()\u001b[0m\n\u001b[1;32m     11\u001b[0m \u001b[0;34m\u001b[0m\u001b[0m\n\u001b[1;32m     12\u001b[0m \u001b[0;31m#def g(x):\u001b[0m\u001b[0;34m\u001b[0m\u001b[0;34m\u001b[0m\u001b[0m\n\u001b[0;32m---> 13\u001b[0;31m \u001b[0mprint\u001b[0m\u001b[0;34m(\u001b[0m\u001b[0mf\u001b[0m\u001b[0;34m(\u001b[0m\u001b[0mt\u001b[0m\u001b[0;34m)\u001b[0m\u001b[0;34m)\u001b[0m\u001b[0;34m\u001b[0m\u001b[0m\n\u001b[0m",
            "\u001b[0;32m<ipython-input-13-99437f7673dc>\u001b[0m in \u001b[0;36mf\u001b[0;34m(t)\u001b[0m\n\u001b[1;32m      3\u001b[0m \u001b[0;34m\u001b[0m\u001b[0m\n\u001b[1;32m      4\u001b[0m \u001b[0;32mdef\u001b[0m \u001b[0mf\u001b[0m\u001b[0;34m(\u001b[0m\u001b[0mt\u001b[0m\u001b[0;34m)\u001b[0m\u001b[0;34m:\u001b[0m\u001b[0;34m\u001b[0m\u001b[0m\n\u001b[0;32m----> 5\u001b[0;31m   \u001b[0mfloat\u001b[0m\u001b[0;34m(\u001b[0m\u001b[0mt\u001b[0m\u001b[0;34m)\u001b[0m\u001b[0;34m\u001b[0m\u001b[0m\n\u001b[0m\u001b[1;32m      6\u001b[0m   \u001b[0ma\u001b[0m\u001b[0;34m=\u001b[0m\u001b[0mt\u001b[0m\u001b[0;34m.\u001b[0m\u001b[0mreplace\u001b[0m\u001b[0;34m(\u001b[0m\u001b[0;34m\"(\"\u001b[0m\u001b[0;34m,\u001b[0m \u001b[0;34m\" \"\u001b[0m\u001b[0;34m)\u001b[0m\u001b[0;34m\u001b[0m\u001b[0m\n\u001b[1;32m      7\u001b[0m   \u001b[0mc\u001b[0m\u001b[0;34m=\u001b[0m\u001b[0ma\u001b[0m\u001b[0;34m.\u001b[0m\u001b[0mreplace\u001b[0m\u001b[0;34m(\u001b[0m\u001b[0;34m\")\"\u001b[0m\u001b[0;34m,\u001b[0m \u001b[0;34m\" \"\u001b[0m\u001b[0;34m)\u001b[0m\u001b[0;34m\u001b[0m\u001b[0m\n",
            "\u001b[0;31mValueError\u001b[0m: could not convert string to float: '(8,12)(3,9)'"
          ]
        }
      ]
    }
  ]
}